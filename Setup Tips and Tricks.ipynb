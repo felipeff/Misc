{
 "cells": [
  {
   "cell_type": "markdown",
   "metadata": {},
   "source": [
    "# Setup - Tips and Tricks\n",
    "\n",
    "## Change Default working directory\n",
    "When you open JupyterLab by default it uses your Document folder as the working directory. To change this, open a Terminal (File > New > Terminal) and type:\n",
    "\n",
    "jupyter notebook --generate-config\n",
    "\n",
    "This will create a config file and return the location for the file. Open this file, search for the option c.NotebookApp.notebook_dir. Remove the # from the beginning of the line and change the value to your preferred directory. Please note that the '\\' symbol in the directory must be written as '\\\\'. So C:\\Notebooks becomes C:\\\\Notebooks\n",
    "\n",
    "## Enable MatplotLib chart visualizations inside the Notebook\n",
    "\n",
    "conda install -c conda-forge ipympl\n",
    "# If using the Notebook\n",
    "conda install -c conda-forge widgetsnbextension\n",
    "# If using JupyterLab\n",
    "conda install nodejs\n",
    "jupyter labextension install @jupyter-widgets/jupyterlab-manager\n",
    "jupyter labextension install jupyter-matplotlib"
   ]
  }
 ],
 "metadata": {
  "kernelspec": {
   "display_name": "Python 3",
   "language": "python",
   "name": "python3"
  },
  "language_info": {
   "codemirror_mode": {
    "name": "ipython",
    "version": 3
   },
   "file_extension": ".py",
   "mimetype": "text/x-python",
   "name": "python",
   "nbconvert_exporter": "python",
   "pygments_lexer": "ipython3",
   "version": "3.7.1"
  }
 },
 "nbformat": 4,
 "nbformat_minor": 2
}
